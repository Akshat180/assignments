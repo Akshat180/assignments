{
 "cells": [
  {
   "cell_type": "code",
   "execution_count": 2,
   "id": "17c3e46e",
   "metadata": {},
   "outputs": [
    {
     "ename": "IndentationError",
     "evalue": "unindent does not match any outer indentation level (<tokenize>, line 4)",
     "output_type": "error",
     "traceback": [
      "\u001b[1;36m  File \u001b[1;32m<tokenize>:4\u001b[1;36m\u001b[0m\n\u001b[1;33m    Given a list storing the dob of the employees as\u001b[0m\n\u001b[1;37m    ^\u001b[0m\n\u001b[1;31mIndentationError\u001b[0m\u001b[1;31m:\u001b[0m unindent does not match any outer indentation level\n"
     ]
    }
   ],
   "source": [
    "Assignment 6\n",
    "1. Given a list storing the names of employees as \n",
    "\tnames = ['Aanchal Sharma', 'Shubham Chhipa, 'Mohit Rawat', 'Salman Khan', 'Ishani Janveja']\n",
    "   Given a list storing the dob of the employees as\n",
    "\tdob = ['24/03/1999', '19/08/1997', '07/07/1990', '26/11/2000', '14/10/1993']\n",
    "   Create a 3rd list storing their suggested passwords as per the following format:\n",
    "\tIf name is Aanchal Sharma and dob is 24/03/1999, then pass is AS#03@24\n",
    "\ti.e. Initials#MM@DD\n",
    "\n",
    "2. Create a list storing the number of vowels in the textual representation in the range of 0 to 9\n",
    "\tin the following format, [(0, 2), (1, 2), (2, 1)......]\n",
    "\tLogic: 0 can be written as zero. zero has 2 vowels.\n",
    "\n",
    "3. Given a sentence containing n words/strings. Remove all duplicates words/strings which are similar to each others.\n",
    "    Examples:  \n",
    "\tInput : Bye Bye bro\n",
    "\tOutput : Bye bro\n",
    "\n",
    "\tInput : Python is great and Java is also great\n",
    "\tOutput : is also Java Python and great\n",
    "\n",
    "4. Write a Python program to count the number of elements in a list within a specified range.\n",
    "\tInput: \t\tl = [2, 16, 9, 10, 15, 8, 11]\n",
    "\tInput Range: \tStart: 9\n",
    "\t\t\tEnd:   13\n",
    "\tOutput:\t\t3\n",
    "\n",
    "\n",
    "5. Question: You are given a list of integers nums and an integer k. \n",
    "   Write a function max_subarray_sum that finds the maximum sum of any continuous subarray of length k in nums and returns the corresponding array.\n",
    "   Example Input:\n",
    "   \t\tnums = [2, 1, 5, 1, 3, 2]\n",
    "\t\tk = 3\n",
    "\t   Function Call:\n",
    "\t\tmax_subarray_sum(nums, k)\n",
    "\t   Output: \n",
    " \t\tarray = [5, 1, 3] \n",
    "   Explanation: The subarray [5, 1, 3] has the maximum sum among all contiguous subarrays of length 3 in nums.\n",
    "   Hint: You can solve this problem using the sliding window technique, where you maintain a sliding window of length k and \n",
    "         slide it over the input list nums while keeping track of the maximum sum seen so far.\n",
    "   \n",
    "Assignment 6.txt\n",
    "Displaying Assignment 6.txt."
   ]
  },
  {
   "cell_type": "code",
   "execution_count": null,
   "id": "2b42f4d6",
   "metadata": {},
   "outputs": [],
   "source": [
    "# 1. Given a list storing the names of employees as \n",
    "# \tnames = ['Aanchal Sharma', 'Shubham Chhipa, 'Mohit Rawat', 'Salman Khan', 'Ishani Janveja']\n",
    "#    Given a list storing the dob of the employees as\n",
    "# \tdob = ['24/03/1999', '19/08/1997', '07/07/1990', '26/11/2000', '14/10/1993']\n",
    "#    Create a 3rd list storing their suggested passwords as per the following format:\n",
    "# \tIf name is Aanchal Sharma and dob is 24/03/1999, then pass is AS#03@24\n",
    "# \ti.e. Initials#MM@DD\n",
    "             \n",
    "names = ['Aanchal Sharma', 'Shubham Chhipa', 'Mohit Rawat', 'Salman Khan', 'Ishani Janveja']\n",
    "dob = ['24/03/1999', '19/08/1997', '07/07/1990', '26/11/2000', '14/10/1993']\n",
    "passwords=[]\n",
    "for i in range(len(names)):\n",
    "    names_"
   ]
  }
 ],
 "metadata": {
  "kernelspec": {
   "display_name": "Python 3 (ipykernel)",
   "language": "python",
   "name": "python3"
  },
  "language_info": {
   "codemirror_mode": {
    "name": "ipython",
    "version": 3
   },
   "file_extension": ".py",
   "mimetype": "text/x-python",
   "name": "python",
   "nbconvert_exporter": "python",
   "pygments_lexer": "ipython3",
   "version": "3.11.2"
  }
 },
 "nbformat": 4,
 "nbformat_minor": 5
}
