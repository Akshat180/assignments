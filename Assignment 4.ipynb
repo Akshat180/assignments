{
 "cells": [
  {
   "cell_type": "markdown",
   "id": "thermal-corporation",
   "metadata": {},
   "source": [
    "# Assume Data wherever needed/necessary"
   ]
  },
  {
   "cell_type": "markdown",
   "id": "central-malta",
   "metadata": {},
   "source": [
    "### Loop Statements"
   ]
  },
  {
   "cell_type": "code",
   "execution_count": 4,
   "id": "elementary-guatemala",
   "metadata": {},
   "outputs": [
    {
     "name": "stdout",
     "output_type": "stream",
     "text": [
      "3\n",
      "Hi\n",
      "67\n",
      "0\n",
      "12\n",
      "0\n",
      "8\n"
     ]
    }
   ],
   "source": [
    "#L1\n",
    "# WAP to print all elements of a list using a for loop. \n",
    "# Take the elements of the list from the user.\n",
    "\n",
    "# For e.g. Input: l = ['3','Hi','67','0','12','0','8']\n",
    "#         Output: 3\n",
    "#                 Hi\n",
    "#                 67\n",
    "#                 0\n",
    "#                 12\n",
    "#                 0\n",
    "#                 8\n",
    "\n",
    "l = ['3','Hi','67','0','12','0','8']\n",
    "for i in l:\n",
    "    print(i)"
   ]
  },
  {
   "cell_type": "code",
   "execution_count": 47,
   "id": "overall-naples",
   "metadata": {},
   "outputs": [
    {
     "name": "stdout",
     "output_type": "stream",
     "text": [
      "num: 5\n",
      "str: a\n",
      "str: b\n",
      "str: c\n",
      "str: d\n",
      "str: s\n",
      "['a', 'b', 'c', 'd', 's']\n",
      " search_element: d\n",
      "Element found\n",
      "['a', 'b', 'c', 's']\n"
     ]
    }
   ],
   "source": [
    "# #L2\n",
    "# WAP to take inputs from user to make a list. Length of the list has to be taken from the user.\n",
    "# Again take one input from user and search it in the list and delete that element, if found.\n",
    "# If not found, print \"Element not present\".\n",
    "\n",
    "# For e.g. Input: len_list = 5\n",
    "#                 list = [\"a\", \"b\", \"y\", \"e\", \"p\"]\n",
    "#                 search_element = \"g\"\n",
    "#                     Output: \"Element not found\"\n",
    "#                 search_element = \"e\"\n",
    "#                     Output: [\"a\", \"b\", \"y\", \"p\"]\n",
    "                        \n",
    "                        \n",
    "n = int(input('num: '))                        \n",
    "l=[]                        \n",
    "for i in range(1,n+1):\n",
    "    n1=input('str: ')\n",
    "    l.append(n1)\n",
    "print(l)                        \n",
    "\n",
    "search_element = input(' search_element: ')\n",
    "if  search_element in l:\n",
    "    print('Element found')\n",
    "    l.remove( search_element)\n",
    "    \n",
    "else:\n",
    "    print(' Element not found')\n",
    "print(\"output: \",l)    "
   ]
  },
  {
   "cell_type": "code",
   "execution_count": 57,
   "id": "specific-catalog",
   "metadata": {},
   "outputs": [
    {
     "name": "stdout",
     "output_type": "stream",
     "text": [
      "grade: 55\n",
      "Grade D\n",
      "grade: 6\n",
      "Grade F\n",
      "grade: 55\n",
      "Grade D\n",
      "grade: 99\n",
      "Grade A\n",
      "grade: stop\n"
     ]
    }
   ],
   "source": [
    "# #L3\n",
    "# Make a grading system for a school based on the marks of the students using the following criteria.\n",
    "# Marks 0 - 40 : Grade F\n",
    "#      41 - 50 : Grade E\n",
    "#      51 - 70 : Grade D\n",
    "#      71 - 80 : Grade C\n",
    "#      81 - 90 : Grade B\n",
    "#      91 - 100: Grade A\n",
    "# Continuously take marks as input from the user and print the grade. \n",
    "# The user can enter \"Stop\" to stop the loop.\n",
    "\n",
    "\n",
    "flag = 1\n",
    "while flag:\n",
    "    num = input(\"grade: \")\n",
    "    if num.lower()==\"stop\":\n",
    "        break\n",
    "        \n",
    "    else:\n",
    "        num = int(num)\n",
    "        if (num) in  range(91,101):\n",
    "\n",
    "            print(\"Grade A\")\n",
    "\n",
    "        elif (num) in range(81,91):   \n",
    "\n",
    "            print(\"Grade B\")\n",
    "\n",
    "        elif (num) in range(71,81):   \n",
    "\n",
    "            print(\"Grade C\")\n",
    "\n",
    "        elif (num) in range(51,71):   \n",
    "\n",
    "            print(\"Grade D\")\n",
    "\n",
    "        elif (num) in range(41,51):   \n",
    "\n",
    "            print(\"Grade E\")   \n",
    "\n",
    "        elif (num) in range(0,41):   \n",
    "\n",
    "            print(\"Grade F\")    \n",
    "\n",
    "        else:\n",
    "            print(\"Try again\")"
   ]
  },
  {
   "cell_type": "code",
   "execution_count": 58,
   "id": "italic-casino",
   "metadata": {},
   "outputs": [
    {
     "name": "stdout",
     "output_type": "stream",
     "text": [
      "num: 5\n",
      "[1, 8, 27, 64, 125]\n"
     ]
    }
   ],
   "source": [
    "#L4\n",
    "# WAP to save the cube of all numbers from 1 to a number n in list, \n",
    "# where n is taken as input from the user.\n",
    "\n",
    "# For e.g. Input: 5\n",
    "#         Output: [1, 8, 27, 64, 125]  #Cube of numbers from 1 to 5 where 5 is the input from the user\n",
    "            \n",
    "            \n",
    "n= int(input('num: '))\n",
    "l=[]\n",
    "for i in range(1,n+1):\n",
    "    x=i*i*i\n",
    "    l.append(x)            \n",
    "print(l)            "
   ]
  },
  {
   "cell_type": "code",
   "execution_count": 3,
   "id": "nervous-publication",
   "metadata": {},
   "outputs": [
    {
     "name": "stdout",
     "output_type": "stream",
     "text": [
      "start: 3\n",
      "end: 14\n",
      "[14, 12, 10, 8, 6, 4]\n"
     ]
    }
   ],
   "source": [
    "# #L5\n",
    "# WAP to print even numbers in a given range in reverse order. Take the range from the user.\n",
    "\n",
    "# For e.g. Input: start = 3\n",
    "#                 End = 14\n",
    "#         Output: 14, 12, 10, 8, 6, 4\n",
    "            \n",
    "            \n",
    "n= int(input('start: '))            \n",
    "n1= int(input('end: '))            \n",
    "    \n",
    "l=[]    \n",
    "for i in range(n,n1+1):\n",
    "    if i%2==0:\n",
    "        l.append(i)\n",
    "        \n",
    "l1=l[::-1]\n",
    "print(l1)"
   ]
  },
  {
   "cell_type": "code",
   "execution_count": 6,
   "id": "juvenile-scope",
   "metadata": {},
   "outputs": [
    {
     "name": "stdout",
     "output_type": "stream",
     "text": [
      "start: 3\n",
      "end: 14\n",
      "[13, 11, 9, 7, 5, 3]\n"
     ]
    }
   ],
   "source": [
    "# #L6\n",
    "# WAP to print odd numbers in a given range in reverse order.\n",
    "# Take the range from the user.\n",
    "\n",
    "# For e.g. Input: start = 3\n",
    "#                 End = 14\n",
    "#         Output: 13, 11, 9, 7, 5, 3\n",
    "            \n",
    "            \n",
    "n= int(input('start: '))            \n",
    "n1= int(input('end: '))            \n",
    "    \n",
    "l=[]    \n",
    "for i in range(n,n1+1):\n",
    "    if i%2!=0:\n",
    "        l.append(i)\n",
    "        \n",
    "l1=l[::-1]\n",
    "print(l1)            \n",
    "            "
   ]
  },
  {
   "cell_type": "code",
   "execution_count": 89,
   "id": "southwest-barrel",
   "metadata": {},
   "outputs": [
    {
     "name": "stdout",
     "output_type": "stream",
     "text": [
      "num: 5\n",
      "5 * 1 = 5\n",
      "5 * 2 = 10\n",
      "5 * 3 = 15\n",
      "5 * 4 = 20\n",
      "5 * 5 = 25\n",
      "5 * 6 = 30\n",
      "5 * 7 = 35\n",
      "5 * 8 = 40\n",
      "5 * 9 = 45\n",
      "5 * 10 = 50\n"
     ]
    }
   ],
   "source": [
    "# L7\n",
    "# WAP to print multiplication table of a number taken as input from the user.\n",
    "\n",
    "# For e.g. Input: 5\n",
    "#         Output: 5*1 = 5\n",
    "#                 5*2 = 10\n",
    "#                 .\n",
    "#                 .\n",
    "#                 .\n",
    "#                 5*10 = 50\n",
    "                \n",
    "n= int(input('num: '))\n",
    "for i in range(1,11):\n",
    "    x=n*i\n",
    "    print(f\"{n} * {i} = {x}\")\n",
    "                "
   ]
  },
  {
   "cell_type": "code",
   "execution_count": 18,
   "id": "german-potter",
   "metadata": {},
   "outputs": [
    {
     "name": "stdout",
     "output_type": "stream",
     "text": [
      "num: 5\n",
      "1\n",
      "12\n",
      "123\n",
      "1234\n",
      "12345\n"
     ]
    }
   ],
   "source": [
    "# L8\n",
    "# WAP to print the following pattern.\n",
    "# e.g. i/p: n = 4\n",
    "#     o/p:\n",
    "#         1\n",
    "#         1 2\n",
    "#         1 2 3\n",
    "#         1 2 3 4\n",
    "        \n",
    "n=int(input('num: '))\n",
    "\n",
    "for i in range(1,n+1):\n",
    "    for j in range(1,i+1):\n",
    "        print(j,end=\"\")\n",
    "    print()        "
   ]
  },
  {
   "cell_type": "code",
   "execution_count": 44,
   "id": "activated-orbit",
   "metadata": {},
   "outputs": [
    {
     "name": "stdout",
     "output_type": "stream",
     "text": [
      "n: 5\n",
      "d: 2\n",
      "2\n",
      "22\n",
      "222\n",
      "2222\n",
      "22222\n",
      "24690\n"
     ]
    }
   ],
   "source": [
    "#L9\n",
    "# Write a program to calculate the sum of series up to n terms for a digit d. n & d are taken as input from the user.\n",
    "\n",
    "# For example:\n",
    "#     Input: n = 5, d = 2\n",
    "#     Logic: 2 + 22 + 222 + 2222 + 22222 \n",
    "#     Output: 24690\n",
    "        \n",
    "n=int(input('n: '))\n",
    "n1=int(input('d: '))\n",
    "s = 0\n",
    "a=0\n",
    "for i in range(1,n+1):\n",
    "    s+=n1\n",
    "    n1=(n1*10)\n",
    "    a+=s\n",
    "    print(s)\n",
    "print(\"sum\",a)     "
   ]
  },
  {
   "cell_type": "code",
   "execution_count": 25,
   "id": "spread-answer",
   "metadata": {},
   "outputs": [
    {
     "name": "stdout",
     "output_type": "stream",
     "text": [
      "enter num for sum\n",
      "        \n",
      "enter 0 to stop\n",
      "num: 5\n",
      "num: 5\n",
      "num: 5\n",
      "num: 0\n",
      "stop\n",
      "15\n",
      "5.0\n"
     ]
    }
   ],
   "source": [
    "#L10\n",
    "# WAP that keeps on accepting numbers from the user until the user enters Zero(0) as input.\n",
    "# Display the sum and average of all the numbers.\n",
    "\n",
    "# For example:\n",
    "#     Input: 3, 6, 8, 2, 5, Stop\n",
    "#     Output: Sum = 24\n",
    "#             Average = 4.8\n",
    "   \n",
    "\n",
    "sum=0\n",
    "l=[]\n",
    "flag=1\n",
    "print('''enter num for sum\n",
    "        \\nenter 0 to stop''')\n",
    "while flag:\n",
    "    n=int(input('num: '))\n",
    "    if n==0:\n",
    "        flag=0\n",
    "        print('stop')\n",
    "    else:\n",
    "        flag=1\n",
    "        sum+=n\n",
    "        l.append(n)\n",
    "        \n",
    "x=len(l)\n",
    "avg=sum/x\n",
    "print(sum)\n",
    "print(float(avg))"
   ]
  },
  {
   "cell_type": "code",
   "execution_count": 25,
   "id": "incorporated-stupid",
   "metadata": {},
   "outputs": [
    {
     "name": "stdout",
     "output_type": "stream",
     "text": [
      "num: 5\n",
      "num: 5\n",
      "num: 5\n",
      "num: 5\n",
      "num: 5\n",
      "num: 5\n",
      "5.0\n"
     ]
    }
   ],
   "source": [
    "# #L11\n",
    "# Accept n numbers from the user and display their average. n is input from the user.\n",
    "\n",
    "# For example:\n",
    "#     Input: n = 5\n",
    "#         Numbers = 3, 6, 2, 9, 0\n",
    "#     Output: Average = 4.0\n",
    "        \n",
    "n=int(input('num: '))\n",
    "sum=0\n",
    "for i in range(1,n+1):\n",
    "    n1=int(input('enter the num: '))\n",
    "    sum+=n1\n",
    "    avg= sum/n\n",
    "print(avg)    "
   ]
  },
  {
   "cell_type": "markdown",
   "id": "shared-cemetery",
   "metadata": {},
   "source": [
    "### String Questions"
   ]
  },
  {
   "cell_type": "code",
   "execution_count": 18,
   "id": "referenced-order",
   "metadata": {},
   "outputs": [
    {
     "name": "stdout",
     "output_type": "stream",
     "text": [
      "str: Python is great\n",
      "{'P': 1, 'y': 1, 't': 2, 'h': 1, 'o': 1, 'n': 1, ' ': 2, 'i': 1, 's': 1, 'g': 1, 'r': 1, 'e': 1, 'a': 1}\n"
     ]
    }
   ],
   "source": [
    "# #S1\n",
    "# Write a Python program to count the number of each of the characters (character frequency) \n",
    "#    in a string input by the user. Ignore the case.\n",
    "#    For example: Input: \"Python is great\"\n",
    "# \t\tOutput: P = 1, y = 1, t = 2, and so on...\n",
    "            \n",
    "            \n",
    "\n",
    "n=input(\"str: \")\n",
    "count={}\n",
    "for i in n:\n",
    "    if i in count:\n",
    "        count[i]+=1\n",
    "    else :        \n",
    "        count[i] =1\n",
    "\n",
    "print(count)        \n",
    "            "
   ]
  },
  {
   "cell_type": "code",
   "execution_count": 5,
   "id": "confirmed-graduate",
   "metadata": {},
   "outputs": [
    {
     "name": "stdout",
     "output_type": "stream",
     "text": [
      "str: 9354328855\n",
      "1670\n"
     ]
    }
   ],
   "source": [
    "# #S2\n",
    "# Write a Python program to find the digits which are absent in a given mobile number.\n",
    "\n",
    "#    For example: Input : 9354328855\n",
    "#                 Output: 0167\n",
    "                    \n",
    "\n",
    "n = input('str: ')\n",
    "x= ['1','2','3','4','5','6','7','8','9','0']\n",
    "\n",
    "for i in n:\n",
    "    if i in x:\n",
    "        x.remove(i)\n",
    "        \n",
    "string = \"\".join(x)\n",
    "print(string)      "
   ]
  },
  {
   "cell_type": "code",
   "execution_count": 4,
   "id": "graduate-scratch",
   "metadata": {},
   "outputs": [
    {
     "name": "stdout",
     "output_type": "stream",
     "text": [
      "number: 55555\n",
      "sum of 55555 is 25 and average is 5.0\n"
     ]
    }
   ],
   "source": [
    "#S3\n",
    "# WAP in python to find average of n numbers taken as input from the user in realtime.\n",
    "n=input(\"number: \")\n",
    "s=0\n",
    "for i in n:\n",
    "    x=int(i)\n",
    "    s+=x\n",
    "    \n",
    "avg=s/len(n)\n",
    "print(f\"sum of {n} is {s} and average is {avg}\")"
   ]
  },
  {
   "cell_type": "code",
   "execution_count": 97,
   "id": "international-hazard",
   "metadata": {},
   "outputs": [
    {
     "name": "stdout",
     "output_type": "stream",
     "text": [
      "str: p-y-t-h-o-n\n",
      "['h', 'n', 'o', 'p', 't', 'y']\n"
     ]
    }
   ],
   "source": [
    "# #S4\n",
    "# WAP in python that accepts a hyphen-separated sequence of \n",
    "# alphabets as input and prints the words in a hyphen-separated \n",
    "# sequence after sorting them alphabetically.\n",
    "\n",
    "# For e.g. Input: \"p-y-t-h-o-n\"\n",
    "#         Output: ['h', 'n','o', 'p', 't', 'y']\n",
    "        \n",
    "        \n",
    "n = input(\"str: \")\n",
    "c=n.split(\"-\")\n",
    "l=[]\n",
    "for i in c:\n",
    "    l.append(i)\n",
    "    \n",
    "l.sort()\n",
    "print(l)"
   ]
  },
  {
   "cell_type": "code",
   "execution_count": 13,
   "id": "dense-jungle",
   "metadata": {},
   "outputs": [
    {
     "name": "stdout",
     "output_type": "stream",
     "text": [
      "n: Qwerty@123 \n",
      "v= 1 c= 5 d= 3 w= 1 s= 1\n"
     ]
    }
   ],
   "source": [
    "\n",
    "# #S5\n",
    "# WAP in python to find the number of vowels, consonants, digits, special \n",
    "# characters and white space characters in a string input by the user.\n",
    "# Example: Input: \"Qwerty@123\"\n",
    "# \toutput: v = 1, c = 5, d = 3, w = 0, s = 1\n",
    "        \n",
    "p = input(\"n: \").lower()\n",
    "\n",
    "x= \"aeiou\"\n",
    "sp=\"!@#$%^&*\"\n",
    "v,c,d,w,s = 0,0,0,0,0\n",
    "for i in p:\n",
    "    if i in x: \n",
    "        v+=1\n",
    "    elif i in sp:\n",
    "        s+=1\n",
    "    elif i.isdigit():\n",
    "        d+=1 \n",
    "    elif i == ' ': \n",
    "        w+=1\n",
    "    else:\n",
    "        c+=1\n",
    "        \n",
    "print(\"v=\",v,\"c=\",c,\"d=\",d,\"w=\",w,\"s=\",s)        "
   ]
  },
  {
   "cell_type": "code",
   "execution_count": 4,
   "id": "black-publicity",
   "metadata": {},
   "outputs": [
    {
     "name": "stdout",
     "output_type": "stream",
     "text": [
      "n: Qwerty@1234\n",
      "3\n"
     ]
    }
   ],
   "source": [
    "#S6\n",
    "# WAP in python to check the strength of the password input by the user based on the following features.\n",
    "#     Length minimum of 8 characters  (+1 Strength)\n",
    "#     Combination of upper case & lower case characters (+1 Strength)\n",
    "#     Combination of alphabets & digits (+1 Strength)\n",
    "#     Use of Special Characters (+1 Strength)\n",
    "    \n",
    "# Example: Input: \"Qwerty@123\"\n",
    "        \n",
    "sp='!@#$%^&*-=+/*?'            \n",
    "            \n",
    "p = input(\"n: \")\n",
    "\n",
    "ac=dc=uc=lc=sc=st=0\n",
    "for i in p:\n",
    "    if i.isalpha():\n",
    "        ac+=1\n",
    "        if i.islower():\n",
    "            lc+=1\n",
    "        elif i.isupper():\n",
    "            lc+=1\n",
    "        \n",
    "    elif i.isdigit():\n",
    "        dc+=1\n",
    "        \n",
    "    elif i in sp: \n",
    "        sc+=1\n",
    "        \n",
    "    \n",
    "    \n",
    "if len(p) > 8:\n",
    "    st+=1\n",
    "if ac>0 and dc >0:\n",
    "    st+=1\n",
    "if uc > 0 and lc>0:\n",
    "    st+=1\n",
    "if sc>0:\n",
    "    st+=1\n",
    "\n",
    "print(st)            "
   ]
  },
  {
   "cell_type": "code",
   "execution_count": null,
   "id": "f68c4150",
   "metadata": {},
   "outputs": [],
   "source": [
    "<!-- #S7\n",
    "# WAP in python to compare two strings and tell the user if both of those strings are same or not. \n",
    "# Ignore their case.\n",
    "\n",
    "# Example: Input String1: \"Hello\"\n",
    "# \tInput String2: \"hello\"\n",
    "# \tOutput: Strings are same \n",
    "         -->\n",
    "        \n",
    "n = input('string1: ').lower()\n",
    "n1 = input('string2: ').lower()\n",
    "if n1==n: print('same')\n",
    "else:     print('not same')\n",
    "    \n"
   ]
  },
  {
   "cell_type": "code",
   "execution_count": null,
   "id": "acoustic-pastor",
   "metadata": {},
   "outputs": [],
   "source": [
    "# #S8\n",
    "# WAP in python to calculate the number of times a character is repeated in a given string.\n",
    "# Take the string and character from the user.\n",
    "\n",
    "# Example: Input String: \"Neil Nitin Mukesh\"\n",
    "#         Input Character: \"e\"\n",
    "#             Output: 2\n",
    "\n",
    "\n",
    "n=input(\"str: \")\n",
    "count={}\n",
    "for i in n:\n",
    "    if i in count:\n",
    "        count[i]+=1\n",
    "    else :        \n",
    "        count[i] =1\n",
    "\n",
    "n1=input('key: ')\n",
    "z=count[n1]\n",
    "print(count)\n",
    "print(z)"
   ]
  },
  {
   "cell_type": "code",
   "execution_count": null,
   "id": "handmade-bidding",
   "metadata": {},
   "outputs": [],
   "source": [
    "# #S9\n",
    "# WAP in python which accepts string from the user and displays only those characters/elements which are present at an even index.\n",
    "\n",
    "# Example: \n",
    "#     Input: \"Python\"\n",
    "#     Output: Pto\n",
    "        \n",
    "n=input(\"str: \")\n",
    "x=n[::2]\n",
    "print(x)"
   ]
  },
  {
   "cell_type": "code",
   "execution_count": 3,
   "id": "polish-regulation",
   "metadata": {},
   "outputs": [
    {
     "name": "stdout",
     "output_type": "stream",
     "text": [
      "name: AKSHAT\n",
      "Akshat\n"
     ]
    }
   ],
   "source": [
    "# #S10\n",
    "# WAP in python to capitalize the first letter of the First Name and Surname where whole name is taken as input from the user.\n",
    "\n",
    "# Example: Input: \"first last\" or \"FIRST LAST\" or \"first lAst\" i.e. Input can be in any case.\n",
    "#         Output: \"First Last\"\n",
    "            \n",
    "n = input(\"name: \").title()\n",
    "print(n)"
   ]
  },
  {
   "cell_type": "code",
   "execution_count": 10,
   "id": "thrown-hampshire",
   "metadata": {},
   "outputs": [
    {
     "name": "stdout",
     "output_type": "stream",
     "text": [
      "str:  red, white, black, red, green \n",
      "[' black', ' green ', ' red', ' red', ' white']\n"
     ]
    }
   ],
   "source": [
    "# #S11\n",
    "# Write a Python program that accepts a comma separated sequence of words as input and \n",
    "# prints the unique words in sorted form (alphanumerically).\n",
    "\n",
    "# \tSample Words : red, white, black, red, green    \n",
    "# \tExpected Result : black, green, red, red, white\n",
    "        \n",
    "        \n",
    "            \n",
    "n = input('str: ')\n",
    "c=n.split(',')\n",
    "l=[]\n",
    "for i in c:\n",
    "    l.append(i)\n",
    "    \n",
    "    \n",
    "l.sort() \n",
    "print(l)        "
   ]
  },
  {
   "cell_type": "code",
   "execution_count": 20,
   "id": "empty-necklace",
   "metadata": {},
   "outputs": [
    {
     "name": "stdout",
     "output_type": "stream",
     "text": [
      "t 2\n",
      "h 2\n",
      "e 3\n",
      "u 2\n",
      "r 2\n",
      "o 4\n"
     ]
    }
   ],
   "source": [
    "# #S12\n",
    "# Write a Python program to count repeated characters in a string.\n",
    "\n",
    "# \tSample string: 'thequickbrownfoxjumpsoverthelazydog'\n",
    "# \tExpected output :\n",
    "# \t\t\to 4\n",
    "# \t\t\te 3\n",
    "# \t\t\tu 2\n",
    "# \t\t\th 2\n",
    "# \t\t\tr 2\n",
    "# \t\t\tt 2\n",
    "dect={}           \n",
    "string = 'thequickbrownfoxjumpsoverthelazydog'\n",
    "for i in string:\n",
    "    if i in dect:\n",
    "        dect[i]+=1\n",
    "    else:\n",
    "        dect[i]=1\n",
    "\n",
    "for i in dect:\n",
    "    if dect[i] > 1:\n",
    "        print(i,dect[i])\n",
    "        \n",
    "    \n",
    "            "
   ]
  },
  {
   "cell_type": "markdown",
   "id": "phantom-woman",
   "metadata": {},
   "source": [
    "### List Questions"
   ]
  },
  {
   "cell_type": "code",
   "execution_count": 25,
   "id": "average-intervention",
   "metadata": {},
   "outputs": [
    {
     "name": "stdout",
     "output_type": "stream",
     "text": [
      "input: 6\n",
      "input: my\n",
      "input: \n",
      "input: name\n",
      "input: \n",
      "input: is\n",
      "['my', '', 'name', '', 'is']\n",
      "['my', 'name', 'is']\n"
     ]
    }
   ],
   "source": [
    "# #Li1\n",
    "# WAP to remove empty strings from the list of strings. Take list as input from the user.\n",
    "\n",
    "# For example: Input: [\"My\", \"name\", \"\", \"is\", \"\", \"Alankrita\", \"\", \".\"]\n",
    "#             Output: [\"My\", \"name\", \"is\", \"Alankrita\", \".\"]\n",
    "                \n",
    "                \n",
    "l=[]\n",
    "n1 = int(input(\"input: \"))\n",
    "for i in  range(1,n1):\n",
    "    n=input(\"input: \")\n",
    "    l.append(n)\n",
    "\n",
    "print(l)\n",
    "\n",
    "while \"\" in l:      # reason we use while when we dont kknow the ending\n",
    "    \n",
    "    l.remove(\"\")\n",
    "    \n",
    "print(l)    "
   ]
  },
  {
   "cell_type": "code",
   "execution_count": 16,
   "id": "level-provision",
   "metadata": {},
   "outputs": [
    {
     "name": "stdout",
     "output_type": "stream",
     "text": [
      "Character: h\n",
      "['A', 'B', 'C', 'D', 'E', 'F', 'G', 'H']\n"
     ]
    }
   ],
   "source": [
    "# #Li2\n",
    "# WAP to make a list of all the characters starting from character 'A' to the input character from the user.\n",
    "\n",
    "# For e.g. Input: 'H'\n",
    "#         Output: [\"A\", \"B\", \"C\", \"D\", \"E\", \"F\", \"G\", \"H\"]\n",
    "            \n",
    "            \n",
    "n=input(\"Character: \").upper()        #ordinace=ord chr(ord(A)+1)\n",
    "l=[]\n",
    "for i in range(ord('A'),ord(n)+1):\n",
    "    l.append(chr(i))\n",
    "    \n",
    "print(l)    "
   ]
  },
  {
   "cell_type": "code",
   "execution_count": 27,
   "id": "foreign-freeware",
   "metadata": {},
   "outputs": [
    {
     "name": "stdout",
     "output_type": "stream",
     "text": [
      "name: harshil\n",
      "Employee is not present\n"
     ]
    }
   ],
   "source": [
    "#Li3\n",
    "# WAP to check if a specific employee e is present in a company or not. Employee names are saved in a list.\n",
    "# e is taken as input from the user.\n",
    "\n",
    "# For example: empList = [\"Ashwin\", \"Rachit\", \"Sanjana\", \"David\", \"Komal\"]\n",
    "#             Input1: \"Komal\"\n",
    "#             Output1: \"Employee is present\"\n",
    "            \n",
    "#             Input2: \"Harshil\"\n",
    "#             Output2: \"Employee is not present\"\n",
    "                \n",
    "                \n",
    "empList = [\"Ashwin\", \"Rachit\", \"Sanjana\", \"David\", \"Komal\"]\n",
    "e=input(\"name: \").title()\n",
    "if e in empList: print(\"Employee is present\")\n",
    "else:            print(\"Employee is not present\")\n",
    "    "
   ]
  },
  {
   "cell_type": "code",
   "execution_count": 45,
   "id": "roman-aaron",
   "metadata": {},
   "outputs": [
    {
     "name": "stdout",
     "output_type": "stream",
     "text": [
      "max number:  86 Index of max number:  3\n",
      "min number:  1 Index of min number:  2\n"
     ]
    }
   ],
   "source": [
    "#Li4\n",
    "# Write a python program to find the maximum and minimum number in a list of 10 elements \n",
    "#    (taken as input from the user) and also find the index position of the these numbers.\n",
    "    \n",
    "#    For example: Input : [25, 2, 1, 86, 42, 32, 27, 12, 31, 10]\n",
    "# \t\tOutput: Max Number: 86, Index of Max Number: 3\n",
    "# \t\t\tMin Number: 1, Index of Min Number: 2\n",
    "                    \n",
    "                    \n",
    "l= [25, 2, 1, 86, 42, 32, 27, 12, 31, 10]\n",
    "x=max(l)\n",
    "y=min(l)\n",
    "print(\"max number: \",x,\"Index of max number: \",l.index(x))\n",
    "print(\"min number: \",y,\"Index of min number: \",l.index(y))"
   ]
  },
  {
   "cell_type": "code",
   "execution_count": 74,
   "id": "announced-victor",
   "metadata": {},
   "outputs": [
    {
     "name": "stdout",
     "output_type": "stream",
     "text": [
      "10 400\n",
      "20 300\n",
      "30 200\n",
      "40 100\n"
     ]
    }
   ],
   "source": [
    "# #Li5\n",
    "# Given two Python lists of same length. Iterate both lists simultaneously such that list1 \n",
    "#    should display item in original order and list2 in reverse order.\n",
    "    \n",
    "#    For example: Input = list1 = [10, 20, 30, 40]\n",
    "# \t\t\tlist2 = [100, 200, 300, 400]\n",
    "#             Output: 10 400\n",
    "#                     20 300\n",
    "#                     30 200\n",
    "#                     40 100\n",
    "                    \n",
    "list1 = [10, 20, 30, 40]\n",
    "list2 = [100, 200, 300, 400]  \n",
    "l2 = list2[::-1]\n",
    "for i in range(len(list1)):\n",
    "    print(list1[i],l2[i])\n"
   ]
  },
  {
   "cell_type": "code",
   "execution_count": 71,
   "id": "rural-stevens",
   "metadata": {},
   "outputs": [
    {
     "name": "stdout",
     "output_type": "stream",
     "text": [
      "['My', 'name', 'is', 'Ashutosh']\n"
     ]
    }
   ],
   "source": [
    "#Li6\n",
    "# WAP to concatenate two lists index-wise.\n",
    "# list1 = [\"M\", \"na\", \"i\", \"Ashu\"]\n",
    "# list2 = [\"y\", \"me\", \"s\", \"tosh\"]\n",
    "#     Output: ['My', 'name', 'is', 'Ashutosh']\n",
    "        \n",
    "list1 = [\"M\", \"na\", \"i\", \"Ashu\"]\n",
    "list2 = [\"y\", \"me\", \"s\", \"tosh\"]\n",
    "\n",
    "l=[]\n",
    "for i in range(len(list1)):\n",
    "    l.append(list1[i]+list2[i])\n",
    "    \n",
    "print(l)"
   ]
  },
  {
   "cell_type": "code",
   "execution_count": 7,
   "id": "accessory-switch",
   "metadata": {},
   "outputs": [
    {
     "name": "stdout",
     "output_type": "stream",
     "text": [
      "num of itrems to be delete: 2\n",
      "name: ajay\n",
      "name: anil\n",
      "['Ashutosh', 'Alankrita', 'Rachit', 'Komal']\n"
     ]
    }
   ],
   "source": [
    "# #Li7\n",
    "# WAP to remove/delete items from a list while iterating without creating a duplicate list.\n",
    "# Take the elements to be deleted from the user in real-time.\n",
    "\n",
    "names = [\"Ashutosh\", \"Ajay\", \"Alankrita\", \"Rachit\", \"Komal\", \"Anil\"]\n",
    "n = int(input(\"num of itrems to be delete: \"))\n",
    "for i in range(1,n+1):\n",
    "    name = (input(\"name: \")).title()  \n",
    "    x = names.remove(name)\n",
    "print(names)"
   ]
  },
  {
   "cell_type": "code",
   "execution_count": 4,
   "id": "massive-bangladesh",
   "metadata": {
    "scrolled": true
   },
   "outputs": [
    {
     "name": "stdout",
     "output_type": "stream",
     "text": [
      "Please, Enter the Lowest Range Value: 1\n",
      "Please, Enter the Upper Range Value: 11\n",
      "[1, 2, 3, 5, 7, 11]\n"
     ]
    }
   ],
   "source": [
    "#Li8\n",
    "# WAP to generate a Python list of all the prime numbers between n to m where n & m are taken as input from the user.\n",
    "\n",
    "n = int(input (\"Please, Enter the Lowest Range Value: \"))  \n",
    "m = int(input (\"Please, Enter the Upper Range Value: \"))  \n",
    " \n",
    "l=[]    \n",
    "for x in range (n,m+1):    \n",
    "        for i in range (2, x):  \n",
    "            if (x % i) == 0:  \n",
    "                break  \n",
    "        else:  \n",
    "            l.append(x) \n",
    "\n",
    "print(l)0"
   ]
  },
  {
   "cell_type": "code",
   "execution_count": 4,
   "id": "active-terrace",
   "metadata": {},
   "outputs": [
    {
     "name": "stdout",
     "output_type": "stream",
     "text": [
      "['Hello  Hi', 'Hello  There', 'World Hi', 'World There']\n"
     ]
    }
   ],
   "source": [
    "#Li9\n",
    "# WAP to concatenate two lists in the following order:\n",
    "#     list1 = [\"Hello \", \"World\"]\n",
    "#     list2 = [\"Hi\", \"There\"]\n",
    "#     Output: ['Hello Hi', 'Hello There', 'World Hi', 'World There']\n",
    "        \n",
    "list1 = [\"Hello \", \"World\"]\n",
    "list2 = [\"Hi\", \"There\"]        \n",
    "c=0\n",
    "l=[]\n",
    "for i in range(len(list1)):\n",
    "    for j in range(len(list2)):\n",
    "        l.append(list1[i]+\" \"+list2[j])\n",
    "  \n",
    "    \n",
    "print(l)        "
   ]
  },
  {
   "cell_type": "code",
   "execution_count": 22,
   "id": "documentary-labor",
   "metadata": {},
   "outputs": [
    {
     "name": "stdout",
     "output_type": "stream",
     "text": [
      "input: ajay\n",
      "Ajay\n",
      "21\n"
     ]
    }
   ],
   "source": [
    "#Li10\n",
    "# Given two lists having names of students and their corrsponding marks.\n",
    "# names = [\"Ashutosh\", \"Ajay\", \"Alankrita\", \"Rachit\", \"Komal\", \"Anil\"]\n",
    "# marks = [23, 21, 26, 23, 27, 24]\n",
    "# Take name of a student as input from the user and output his/her marks.\n",
    "\n",
    "# For e.g.:\n",
    "#     Input1: \"Alankrita\"\n",
    "#     Output1: 26\n",
    "        \n",
    "#     Input2: \"Someone\"\n",
    "#     Output2: \"Student not found\"\n",
    "        \n",
    "names = [\"Ashutosh\", \"Ajay\", \"Alankrita\", \"Rachit\", \"Komal\", \"Anil\"]\n",
    "marks = [23, 21, 26, 23, 27, 24]\n",
    "\n",
    "n = input(\"input: \").title()\n",
    "if n in names:\n",
    "    x= names.index(n)\n",
    "    print(names[x])\n",
    "    print(marks[x])\n",
    "else:\n",
    "    print(\"Student not found\")"
   ]
  },
  {
   "cell_type": "code",
   "execution_count": 25,
   "id": "growing-burden",
   "metadata": {},
   "outputs": [
    {
     "name": "stdout",
     "output_type": "stream",
     "text": [
      "input: ajay\n",
      "new_marks: 99\n",
      "[23, 99, 26, 23, 27, 24]\n"
     ]
    }
   ],
   "source": [
    "# #Li11\n",
    "# Extended question of #Li10\n",
    "# Add an option to change marks of any students in the same code of#Li10. Take student name and new marks from the user. \n",
    "# Print the modified list as output.\n",
    "\n",
    "# For e.g.: Input: \"Ajay\"\n",
    "#         new_mark: 25\n",
    "#         Output: marks = [23, 25, 26, 23, 27, 24]\n",
    "            \n",
    "n = input(\"input: \").title()\n",
    "if n in names:\n",
    "    x= names.index(n)\n",
    "    marks.pop(x)\n",
    "    new_marks = int(input(\"new_marks: \"))\n",
    "    marks.insert(x,new_marks)\n",
    "else:\n",
    "    print(\"Student not found\")\n",
    "    \n",
    "print(marks)    "
   ]
  },
  {
   "cell_type": "code",
   "execution_count": 23,
   "id": "celtic-coordinator",
   "metadata": {},
   "outputs": [
    {
     "name": "stdout",
     "output_type": "stream",
     "text": [
      "new names: akshat\n",
      "new marks10\n",
      "['Ashutosh', 'Ajay', 'Alankrita', 'Rachit', 'Komal', 'Anil', 'akshat'] \n",
      " [23, 21, 26, 23, 27, 24, 10]\n"
     ]
    }
   ],
   "source": [
    "#Li12\n",
    "# Extended question of #Li10\n",
    "# Give an option to enter the marks of a new student into the existing lists names and marks. Take new data as input from user.\n",
    "# Print the new names and marks list as output.\n",
    "\n",
    "# For e.g.: Input: New_name = \"Harshil\"\n",
    "#                 new_Marks = 20\n",
    "#         Output: names = [\"Ashutosh\", \"Ajay\", \"Alankrita\", \"Rachit\", \"Komal\", \"Anil\", \"Harshil\"]\n",
    "#                 marks = [23, 21, 26, 23, 27, 24, 20]\n",
    "                \n",
    "New_name = input(\"new names: \").title()\n",
    "new_Marks= int(input(\"new marks: \"))               \n",
    "names.append(New_name)\n",
    "marks.append(new_Marks)\n",
    "print(names,\"\\n\",marks)"
   ]
  },
  {
   "cell_type": "code",
   "execution_count": null,
   "id": "innovative-garage",
   "metadata": {},
   "outputs": [],
   "source": []
  },
  {
   "cell_type": "markdown",
   "id": "noble-rogers",
   "metadata": {},
   "source": [
    "### Dictionary Questions"
   ]
  },
  {
   "cell_type": "code",
   "execution_count": 17,
   "id": "disturbed-stream",
   "metadata": {},
   "outputs": [
    {
     "name": "stdout",
     "output_type": "stream",
     "text": [
      "{1: 10, 2: 20, 3: 30, 4: 40, 5: 50, 6: 60}\n"
     ]
    }
   ],
   "source": [
    "# #D1\n",
    "# WAP in Python to merge following dictionaries to create a new one:\n",
    "# \tdic1={1:10, 2:20}\n",
    "# \tdic2={3:30, 4:40}\n",
    "#     dic3={5:50, 6:60}\n",
    "    \n",
    "dic1={1:10, 2:20}\n",
    "dic2={3:30, 4:40}\n",
    "dic3={5:50, 6:60}\n",
    "\n",
    "dic2.update(dic3)\n",
    "dic1.update(dic2)\n",
    "print(dic1)"
   ]
  },
  {
   "cell_type": "code",
   "execution_count": 59,
   "id": "lyric-illinois",
   "metadata": {},
   "outputs": [
    {
     "name": "stdout",
     "output_type": "stream",
     "text": [
      "num: 1\n",
      "{1: 1}\n"
     ]
    }
   ],
   "source": [
    "#D2\n",
    "# WAP in python to generate and print a dictionary that contains a number (between 1 and n) \n",
    "# in the form {x : x*x} where n is the input from the user.\n",
    "\n",
    "# For e.g. Input: 4\n",
    "#         Output: {1:1, 2:4, 3:9, 4:16}\n",
    "            \n",
    "n=int(input(\"num: \"))            \n",
    "d={}\n",
    "for i in range(1,n+1):\n",
    "    x=i*i\n",
    "    d.update({i:x})\n",
    "\n",
    "print(d)    "
   ]
  },
  {
   "cell_type": "code",
   "execution_count": 12,
   "id": "roman-orleans",
   "metadata": {},
   "outputs": [
    {
     "name": "stdout",
     "output_type": "stream",
     "text": [
      "n: tdsera @12\n",
      "{'c': 4, 'v': 2, 'w': 1, 's': 1, 'd': 2}\n"
     ]
    }
   ],
   "source": [
    "# #D3\n",
    "# WAP in python to find the number of vowels, consonants, digits, white space characters & \n",
    "# special characters in a string and save the result in the form of a dictionary.\n",
    "\n",
    "p = input(\"n: \").lower()\n",
    "\n",
    "x= \"aeiou\"\n",
    "sp=\"!@#$%^&*\"\n",
    "v,c,d1,w,s = 0,0,0,0,0\n",
    "d={}\n",
    "for i in p:\n",
    "    if i in x: \n",
    "        v+=1\n",
    "        d.update({\"v\":v})\n",
    "    elif i in sp:\n",
    "        s+=1\n",
    "        d.update({\"s\":s})\n",
    "    elif i.isdigit():\n",
    "        d1+=1 \n",
    "        d.update({\"d\":d1})\n",
    "    elif i == ' ': \n",
    "        w+=1\n",
    "        d.update({\"w\":w})\n",
    "    else:\n",
    "        c+=1\n",
    "        d.update({\"c\":c})\n",
    "\n",
    "print(d)       "
   ]
  },
  {
   "cell_type": "code",
   "execution_count": 7,
   "id": "administrative-tunisia",
   "metadata": {},
   "outputs": [
    {
     "name": "stdout",
     "output_type": "stream",
     "text": [
      "{'A': 65, 'B': 66, 'C': 67, 'D': 68}\n",
      "{65: 'A', 66: 'B', 67: 'C', 68: 'D'}\n"
     ]
    }
   ],
   "source": [
    "# #D4\n",
    "# WAP to reverse map the dictionary items. Take dictionary as input from the user.\n",
    "\n",
    "# \tFor eg., Input: d = {'A': 65, 'B': 66, 'C': 67, 'D': 68}\n",
    "#             Output: d = {65: 'A', 66: 'B', 67: 'C', 68: 'D'}\n",
    "                \n",
    "                \n",
    "d = {'A': 65, 'B': 66, 'C': 67, 'D': 68}\n",
    "print(d)\n",
    "x= dict(map(reversed,d.items()))\n",
    "print(x)"
   ]
  },
  {
   "cell_type": "code",
   "execution_count": 30,
   "id": "empirical-effort",
   "metadata": {},
   "outputs": [
    {
     "name": "stdout",
     "output_type": "stream",
     "text": [
      "username: akshat\n",
      "password: aks\n",
      "username: animesh\n",
      "password: ani\n",
      "username: abhishek\n",
      "password: abhi\n",
      "username: yash\n",
      "password: y\n",
      "username: himanshu\n",
      "password: h\n",
      "username: shruti\n",
      "password: sh\n",
      "username: bhai\n",
      "password: bh\n",
      "username: anvi\n",
      "password: avi\n",
      "username: pankaj\n",
      "password: p\n",
      "username: kallu\n",
      "password: k\n",
      "{'akshat': 'aks', 'animesh': 'ani', 'abhishek': 'abhi', 'yash': 'y', 'himanshu': 'h', 'shruti': 'sh', 'bhai': 'bh', 'anvi': 'avi', 'pankaj': 'p', 'kallu': 'k'}\n"
     ]
    }
   ],
   "source": [
    "#D5\n",
    "# WAP to save Username and Password of 10 employees in an organisation. \n",
    "# Take the Username and Password as input from the user one by one and save in the Dictionary.\n",
    "\n",
    "d={}\n",
    "for i in range(1,11):\n",
    "    username = input(\"username: \")\n",
    "    if username not in d:\n",
    "        password = input(\"password: \")\n",
    "        d.update({username:password})\n",
    "    else:\n",
    "        print(\"none\")\n",
    "        \n",
    "print(d)        "
   ]
  },
  {
   "cell_type": "code",
   "execution_count": 36,
   "id": "driven-glossary",
   "metadata": {},
   "outputs": [
    {
     "name": "stdout",
     "output_type": "stream",
     "text": [
      "username: ani\n",
      "Not Present\n"
     ]
    }
   ],
   "source": [
    "#D6\n",
    "# Extended Question from #D5\n",
    "# Write an additional functionality to check if an employee is present in the organisation or not.\n",
    "# Basically \"Search\" Functionality based on their username\n",
    "# Take employee name as input from the user.\n",
    "# If the employee is present, print \"Present\" else print \"Not Present\"\n",
    "\n",
    "username1 = input(\"username: \")\n",
    "if username1 in d:\n",
    "    print(\"Present\")\n",
    "else:\n",
    "    print(\"Not Present\")"
   ]
  },
  {
   "cell_type": "code",
   "execution_count": null,
   "id": "stainless-replication",
   "metadata": {},
   "outputs": [],
   "source": []
  },
  {
   "cell_type": "markdown",
   "id": "heated-announcement",
   "metadata": {},
   "source": [
    "### Misc. Questions - i.e. you can use any data type which seems feasible for question"
   ]
  },
  {
   "cell_type": "code",
   "execution_count": 2,
   "id": "pursuant-confidentiality",
   "metadata": {},
   "outputs": [
    {
     "name": "stdout",
     "output_type": "stream",
     "text": [
      "num5\n",
      "num2\n",
      "25\n"
     ]
    }
   ],
   "source": [
    "#M1\n",
    "# WAP in python that accepts two integers (n) & (m) from user and \n",
    "# computes the value of 2n3 + 5m2 - 7n + 10\n",
    "n=int(input('num: '))\n",
    "m=int(input('num: '))\n",
    "x= 2*n*3 + 5*m*2 - 7*n + 10\n",
    "print(x)"
   ]
  },
  {
   "cell_type": "code",
   "execution_count": 3,
   "id": "different-pilot",
   "metadata": {},
   "outputs": [
    {
     "name": "stdout",
     "output_type": "stream",
     "text": [
      "{1, 2, 4, 5, 6, 7, 9}\n"
     ]
    }
   ],
   "source": [
    "# #M2\n",
    "# Write a python program to find the intersection of elements from two list \n",
    "# (find the common elements in two lists).\n",
    "\n",
    "l1=[1,2,5,4,6,9,7,1,2,4,5]\n",
    "l2=[5,2,9,7,4,6,4,5,8,1,5,2]\n",
    "s1=set(l1)\n",
    "s2=set(l2)\n",
    "s12=s1&s2\n",
    "print(s12)"
   ]
  },
  {
   "cell_type": "code",
   "execution_count": 10,
   "id": "inner-american",
   "metadata": {},
   "outputs": [
    {
     "name": "stdout",
     "output_type": "stream",
     "text": [
      "num: 5\n",
      "Input: 6\n",
      "Input: 8\n",
      "Input: 5\n",
      "Input: 75\n",
      "Input: 0\n",
      "\n",
      "Max number in Input:  75\n"
     ]
    }
   ],
   "source": [
    "#M3\n",
    "# WAP in Python to find the Max of n numbers all taken as input from the user.\n",
    "\n",
    "l=[]\n",
    "n = int(input(\"num: \"))\n",
    "for i in range(1,n+1):\n",
    "    num = int(input(\"Input: \"))\n",
    "    l.append(num)\n",
    "    \n",
    "x = max(l)\n",
    "print('')\n",
    "print(\"Max number in Input: \",x)"
   ]
  },
  {
   "cell_type": "code",
   "execution_count": 2,
   "id": "pointed-consensus",
   "metadata": {},
   "outputs": [
    {
     "name": "stdout",
     "output_type": "stream",
     "text": [
      "num: 6\n",
      "Input: 1\n",
      "Input: 2\n",
      "Input: 3\n",
      "Input: 4\n",
      "Input: 5\n",
      "Input: 6\n",
      "[1, 2, 3, 4, 5, 6] {1, 2, 3, 4, 5, 6}\n",
      "all number are unique\n"
     ]
    }
   ],
   "source": [
    "#M4\n",
    "# WAP which takes a sequence of numbers from the user and check if all input numbers are unique.\n",
    "\n",
    "\n",
    "l=[]\n",
    "n = int(input(\"num: \"))\n",
    "for i in range(1,n+1):\n",
    "    num = int(input(\"Input: \"))\n",
    "    l.append(num)\n",
    "    \n",
    "s1=set(l)\n",
    "print(l,s1)\n",
    "if len(s1)==len(l):\n",
    "    print(\"all number are unique\")\n",
    "else:\n",
    "    print(\"all number are not unique\")"
   ]
  },
  {
   "cell_type": "code",
   "execution_count": 6,
   "id": "broadband-christmas",
   "metadata": {},
   "outputs": [
    {
     "name": "stdout",
     "output_type": "stream",
     "text": [
      "Input: 105320\n",
      "Output: 023501\n"
     ]
    }
   ],
   "source": [
    "8# #M5\n",
    "# WAP to reverse a given integer number.\n",
    "# Example: Input: 105320\n",
    "#         Output: 023501\n",
    "            \n",
    "n=input(\"Input: \")\n",
    "x= n[::-1]\n",
    "print(\"Output:\",x)"
   ]
  },
  {
   "cell_type": "code",
   "execution_count": 7,
   "id": "canadian-latino",
   "metadata": {},
   "outputs": [
    {
     "name": "stdout",
     "output_type": "stream",
     "text": [
      "number: 1\n",
      "number: 2\n",
      "number: 3\n",
      "number: 9\n",
      "number: 54\n",
      "number: 88\n",
      "number: 90\n",
      "number: 10\n",
      "number: 7\n",
      "number: 3\n",
      "[1, 2, 3, 9, 54, 88, 90, 10, 7, 3] \n",
      " [2, 54, 88, 90, 10] \n",
      " [1, 3, 9, 7, 3]\n"
     ]
    }
   ],
   "source": [
    "# #M6\n",
    "# WAP to take 10 integer inputs from the user and save them in a list. \n",
    "# The inputs have to be mix of even and odd numbers. \n",
    "# Now make one list to save all the even numbers from the input list. \n",
    "# Make another list for odd numbers too.\n",
    "\n",
    "l=[]\n",
    "l1=[]\n",
    "l2=[]\n",
    "for i in range(1,11):\n",
    "    n=int(input(\"number: \"))\n",
    "    l.append(n)\n",
    "    \n",
    "for i in l:\n",
    "    if i%2==0:\n",
    "        l1.append(i)\n",
    "    else:\n",
    "        l2.append(i)\n",
    "print(l,\"\\n\",l1,\"\\n\",l2)        "
   ]
  },
  {
   "cell_type": "code",
   "execution_count": 14,
   "id": "unique-account",
   "metadata": {},
   "outputs": [
    {
     "name": "stdout",
     "output_type": "stream",
     "text": [
      "Fahrenheit: 55\n",
      "Celsius 12.777777777777779\n"
     ]
    }
   ],
   "source": [
    "#M7\n",
    "# WAP to convert temperature in Fahrenheit to Celsius. Take the temperature from the user in float type.\n",
    "F=int(input(\"Fahrenheit: \"))\n",
    "print(\"Celsius\",float((F-32)*(5/9)))"
   ]
  },
  {
   "cell_type": "code",
   "execution_count": 9,
   "id": "primary-stocks",
   "metadata": {},
   "outputs": [
    {
     "name": "stdout",
     "output_type": "stream",
     "text": [
      "str: Shahrukh Khan,Gauri Khan\n",
      "['Shahrukh Khan', 'Gauri Khan']\n",
      "{'Shahrukh': 'Khan', 'Gauri': 'Khan'}\n"
     ]
    }
   ],
   "source": [
    "# #M8\n",
    "# WAP to continuously take Names as input from the user. \n",
    "# Save the incoming names into a list as Full Name and save {First Name:Second Name} in a dictionary.\n",
    "# Take inputs till the user enters \"Stop\"\n",
    "\n",
    "# For e.g.: Input: \"Shahrukh Khan\", \"Gauri Khan\",...................\"Stop\"\n",
    "#          Output: list1 = [\"Shahrukh Khan\", \"Gauri Khan\",....................]\n",
    "#                 dict1 = {\"Shahrukh\":\"Khan\", \"Gauri\":\"Khan\", .....................}\n",
    "                \n",
    "\n",
    "    \n",
    "n = input('str: ')\n",
    "c=n.split(',')\n",
    "l=[]\n",
    "for i in c:\n",
    "    l.append(i)\n",
    "                \n",
    "d={}    \n",
    "print(l)\n",
    "for i in l:\n",
    "    c=i.split(' ')\n",
    "    d.update({c[0]:c[1]})\n",
    "    \n",
    "print(d)    "
   ]
  },
  {
   "cell_type": "code",
   "execution_count": 7,
   "id": "sunrise-sculpture",
   "metadata": {},
   "outputs": [
    {
     "name": "stdout",
     "output_type": "stream",
     "text": [
      "simple and compound interest calculator\n",
      "         Press 1 for simple interest\n",
      "         press 2 for compound interest\n",
      "Input: 1\n",
      "Principle: 55\n",
      "Rate: 6\n",
      "Time: 30\n",
      "simple_intrest:  99.0\n"
     ]
    }
   ],
   "source": [
    "#M9\n",
    "# WAP to make a simple and compound interest calculator. Take all the necessary data as input from the user.\n",
    "\n",
    "print('''simple and compound interest calculator\n",
    "         Press 1 for simple interest\n",
    "         press 2 for compound interest''')\n",
    "n = int(input(\"Input: \"))\n",
    "if n == 1:\n",
    "    si()\n",
    "elif n == 2:\n",
    "    ci()\n",
    "else:\n",
    "    print(\"Please try again\")\n",
    "    \n",
    "    \n",
    "def si():\n",
    "    p = int(input(\"Principle: \"))\n",
    "    r = int(input(\"Rate: \")) \n",
    "    t = int(input(\"Time: \"))\n",
    "    \n",
    "    simple_intrest = ((p*r*t)/100)\n",
    "    print(\"simple_intrest: \",simple_intrest )\n",
    "    \n",
    "    \n",
    "def ci():\n",
    "    p = int(input(\"Principle: \"))\n",
    "    r = int(input(\"Rate: \")) \n",
    "    t = int(input(\"Time: \"))\n",
    "    Amount = p * (pow((1 + r / 100), t))\n",
    "    CI = Amount - p\n",
    "    print(\"Compound interest is\", CI)"
   ]
  },
  {
   "cell_type": "code",
   "execution_count": null,
   "id": "tired-tower",
   "metadata": {},
   "outputs": [],
   "source": []
  },
  {
   "cell_type": "code",
   "execution_count": null,
   "id": "secret-wiring",
   "metadata": {},
   "outputs": [],
   "source": []
  },
  {
   "cell_type": "code",
   "execution_count": 2,
   "id": "narrow-nelson",
   "metadata": {},
   "outputs": [
    {
     "name": "stdout",
     "output_type": "stream",
     "text": [
      "stakshat\n",
      "{'a': 2}\n"
     ]
    }
   ],
   "source": [
    "n=input('st')\n",
    "x = 'aeiou'\n",
    "c=0\n",
    "d={}\n",
    "for i in n:\n",
    "    if i in x:\n",
    "        c+=1\n",
    "        d.update({i:c})\n",
    "print(d)        "
   ]
  },
  {
   "cell_type": "code",
   "execution_count": null,
   "id": "intermediate-asbestos",
   "metadata": {},
   "outputs": [],
   "source": [
    "\n"
   ]
  },
  {
   "cell_type": "code",
   "execution_count": null,
   "id": "a8c5ef4e",
   "metadata": {},
   "outputs": [],
   "source": []
  }
 ],
 "metadata": {
  "kernelspec": {
   "display_name": "Python 3 (ipykernel)",
   "language": "python",
   "name": "python3"
  },
  "language_info": {
   "codemirror_mode": {
    "name": "ipython",
    "version": 3
   },
   "file_extension": ".py",
   "mimetype": "text/x-python",
   "name": "python",
   "nbconvert_exporter": "python",
   "pygments_lexer": "ipython3",
   "version": "3.11.2"
  }
 },
 "nbformat": 4,
 "nbformat_minor": 5
}
