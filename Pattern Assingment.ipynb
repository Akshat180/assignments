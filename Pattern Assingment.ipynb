{
 "cells": [
  {
   "cell_type": "code",
   "execution_count": 2,
   "id": "6f6265f5",
   "metadata": {},
   "outputs": [
    {
     "name": "stdout",
     "output_type": "stream",
     "text": [
      "Num: 5\n",
      "* \n",
      "* * \n",
      "* * * \n",
      "* * * * \n",
      "* * * * * \n"
     ]
    }
   ],
   "source": [
    "# question 1\n",
    "n = int(input('Num: '))\n",
    "for i in range(1,n+1):\n",
    "    for j in range(1,i+1):\n",
    "        print('* ',end='')\n",
    "    print('')    "
   ]
  },
  {
   "cell_type": "code",
   "execution_count": 18,
   "id": "86635e9e",
   "metadata": {},
   "outputs": [
    {
     "name": "stdout",
     "output_type": "stream",
     "text": [
      "Num: 5\n",
      "*****\n",
      " ****\n",
      "  ***\n",
      "   **\n",
      "    *\n"
     ]
    }
   ],
   "source": [
    "# question 2\n",
    "n = int(input('Num: '))\n",
    "for i in range(1,n+1):\n",
    "    for j in range(1,i-1+1):\n",
    "        print(\" \",end=\"\")\n",
    "    for z in range(1,n+1-i+1):\n",
    "        print(\"*\",end =\"\")\n",
    "    print()    \n",
    "    \n",
    "    "
   ]
  },
  {
   "cell_type": "code",
   "execution_count": 31,
   "id": "f8852903",
   "metadata": {},
   "outputs": [
    {
     "name": "stdout",
     "output_type": "stream",
     "text": [
      "Num: 5\n",
      "1\n",
      "12\n",
      "123\n",
      "1234\n",
      "12345\n"
     ]
    }
   ],
   "source": [
    "   # question 3\n",
    "n = int(input('Num: '))\n",
    "for i in range(1,n+1):\n",
    "    for j in range(1,i+1):\n",
    "        print(j ,end='')\n",
    "    print('') "
   ]
  },
  {
   "cell_type": "code",
   "execution_count": 50,
   "id": "822dd691",
   "metadata": {},
   "outputs": [
    {
     "name": "stdout",
     "output_type": "stream",
     "text": [
      "Rows Number: 5\n",
      "    *\n",
      "   ***\n",
      "  *****\n",
      " *******\n",
      "*********\n"
     ]
    }
   ],
   "source": [
    "# question 4\n",
    "n = 0\n",
    "rows = int(input(\"Rows Number: \"))\n",
    "for i in range(1, rows+1):\n",
    "    for space in range(1, (rows-i)+1):\n",
    "        print(\" \",end='')\n",
    "    while n != (2*i-1):\n",
    "        print(\"*\", end=\"\")\n",
    "        n = n + 1\n",
    "    n = 0\n",
    "    print()"
   ]
  },
  {
   "cell_type": "code",
   "execution_count": 48,
   "id": "57c217d1",
   "metadata": {},
   "outputs": [
    {
     "name": "stdout",
     "output_type": "stream",
     "text": [
      "Num: 5\n",
      "     *\n",
      "    **\n",
      "   ***\n",
      "  ****\n",
      " *****\n"
     ]
    }
   ],
   "source": [
    "# question 5\n",
    "n = int(input('Num: '))\n",
    "for i in range(1,n+1):\n",
    "    for z in range(1,n-i+1+1):\n",
    "        print(\" \",end='')\n",
    "    for j in range(1,i+1):    \n",
    "        print(\"*\",end='')\n",
    "    \n",
    "    print('')\n",
    "    "
   ]
  },
  {
   "cell_type": "code",
   "execution_count": 2,
   "id": "16c15fad",
   "metadata": {},
   "outputs": [
    {
     "name": "stdout",
     "output_type": "stream",
     "text": [
      "Rows Number: 5\n",
      "*********\n",
      " *******\n",
      "  *****\n",
      "   ***\n",
      "    *\n"
     ]
    }
   ],
   "source": [
    "# question 6\n",
    "n = int(input(\"Rows Number: \"))\n",
    "for i in range(1,(2*n)+1,2):\n",
    "    for space in range(1,int((i+1)/2)):\n",
    "        print(\" \",end='')\n",
    "    for star in range(1,(2*n)-i+1):\n",
    "        print('*',end = '')\n",
    "    print()\n",
    "\n",
    "print(\"hello\")"
   ]
  },
  {
   "cell_type": "code",
   "execution_count": 7,
   "id": "e463160a",
   "metadata": {},
   "outputs": [
    {
     "name": "stdout",
     "output_type": "stream",
     "text": [
      "Num: 5\n",
      "*\n",
      "**\n",
      "***\n",
      "****\n",
      "*****\n",
      "******\n",
      "*****\n",
      "****\n",
      "***\n",
      "**\n",
      "*\n"
     ]
    }
   ],
   "source": [
    "# question 7\n",
    "n = int(input('Num: '))\n",
    "for i in range(1,n+2):               # add two pattern\n",
    "    for j in range(1,i+1):\n",
    "        print('*',end='')\n",
    "    print('')    \n",
    "    \n",
    "for row in range(1,n+1):\n",
    "    for j in range(1,n+1-row+1):     # here we decrease the num of range \n",
    "        print('*',end='')\n",
    "    print('') "
   ]
  },
  {
   "cell_type": "code",
   "execution_count": 33,
   "id": "228f5816",
   "metadata": {},
   "outputs": [
    {
     "name": "stdout",
     "output_type": "stream",
     "text": [
      "Num: 6\n",
      "1 2 3 4 5 6 \n",
      "1 2 3 4 5 \n",
      "1 2 3 4 \n",
      "1 2 3 \n",
      "1 2 \n",
      "1 \n"
     ]
    }
   ],
   "source": [
    "# question 8\n",
    "n = int(input('Num: '))\n",
    "for row in range(1,n+1):\n",
    "    for j in range(1,n+1-row+1):\n",
    "        print(j,\"\" ,end='')\n",
    "    print('') "
   ]
  },
  {
   "cell_type": "code",
   "execution_count": 1,
   "id": "a2b5ce14",
   "metadata": {},
   "outputs": [
    {
     "name": "stdout",
     "output_type": "stream",
     "text": [
      "Num: 5\n",
      "1 \n",
      "1 2 \n",
      "1 2 3 \n",
      "1 2 3 4 \n",
      "1 2 3 4 5 \n"
     ]
    }
   ],
   "source": [
    "# question 9\n",
    "n = int(input('Num: '))\n",
    "for i in range(1,n+1):\n",
    "    for j in range(1,i+1):\n",
    "        print(j,\"\" ,end='')\n",
    "    print('') "
   ]
  },
  {
   "cell_type": "code",
   "execution_count": 30,
   "id": "31020838",
   "metadata": {},
   "outputs": [
    {
     "name": "stdout",
     "output_type": "stream",
     "text": [
      "Num: 5\n",
      "1\n",
      "\n",
      "22\n",
      "\n",
      "333\n",
      "\n",
      "4444\n",
      "\n",
      "55555\n",
      "\n"
     ]
    }
   ],
   "source": [
    "# question 10\n",
    "n = int(input('Num: '))\n",
    "for i in range(1,n+1):\n",
    "    for j in range(1,i+1):\n",
    "        print(i,end='')\n",
    "    print('\\n')    "
   ]
  },
  {
   "cell_type": "code",
   "execution_count": 2,
   "id": "4a3baade",
   "metadata": {},
   "outputs": [
    {
     "name": "stdout",
     "output_type": "stream",
     "text": [
      "5\n",
      "* \n",
      "** \n",
      "*** \n",
      "**** \n",
      "***** \n"
     ]
    }
   ],
   "source": [
    "n = int(input())\n",
    "for i in range(1,n+1):\n",
    "    for j in range(1,i+1):\n",
    "        print(\"*\",end=\"\")\n",
    "    print(' ')    "
   ]
  },
  {
   "cell_type": "code",
   "execution_count": null,
   "id": "a31c854a",
   "metadata": {},
   "outputs": [],
   "source": []
  }
 ],
 "metadata": {
  "kernelspec": {
   "display_name": "Python 3 (ipykernel)",
   "language": "python",
   "name": "python3"
  },
  "language_info": {
   "codemirror_mode": {
    "name": "ipython",
    "version": 3
   },
   "file_extension": ".py",
   "mimetype": "text/x-python",
   "name": "python",
   "nbconvert_exporter": "python",
   "pygments_lexer": "ipython3",
   "version": "3.11.2"
  }
 },
 "nbformat": 4,
 "nbformat_minor": 5
}
