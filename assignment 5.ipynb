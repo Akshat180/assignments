{
 "cells": [
  {
   "cell_type": "code",
   "execution_count": null,
   "id": "d96a9d0c",
   "metadata": {},
   "outputs": [],
   "source": []
  },
  {
   "cell_type": "code",
   "execution_count": 1,
   "id": "96cf6827",
   "metadata": {},
   "outputs": [
    {
     "name": "stdout",
     "output_type": "stream",
     "text": [
      "num: 5\n",
      "1\n",
      "2\n",
      "3\n",
      "5\n",
      "8\n",
      "13\n"
     ]
    }
   ],
   "source": [
    "# 1. Write a program to print n Fibonacci series numbers. Take n from user.\n",
    "num = int(input(\"num: \"))\n",
    "a=0\n",
    "b=1\n",
    "for i in range(num+1):\n",
    "    c=a+b\n",
    "    a=b\n",
    "    b=c\n",
    "    print(c)"
   ]
  },
  {
   "cell_type": "code",
   "execution_count": 2,
   "id": "a82c46c1",
   "metadata": {},
   "outputs": [
    {
     "name": "stdout",
     "output_type": "stream",
     "text": [
      "alphabet: 5\n",
      "none\n"
     ]
    }
   ],
   "source": [
    "# question 2  Write a program to check weather a character is upper case Alphabet or small case?\n",
    "\n",
    "n=input('alphabet: ')\n",
    "for i in n:\n",
    "    if i.isupper():\n",
    "        print('is upper')\n",
    "        \n",
    "    elif i.islower():\n",
    "        print('is lower')\n",
    "        \n",
    "    else:\n",
    "        print('none')"
   ]
  },
  {
   "cell_type": "code",
   "execution_count": 3,
   "id": "6aec74b4",
   "metadata": {},
   "outputs": [
    {
     "name": "stdout",
     "output_type": "stream",
     "text": [
      "num: 5\n",
      "1\n",
      "2\n",
      "6\n",
      "24\n",
      "120\n",
      "factorail of 5 is 120\n"
     ]
    }
   ],
   "source": [
    "# que3  Write a program to find the factorial of a given number n. Take n from user.\n",
    "num= int(input('num: '))\n",
    "x=1\n",
    "for i in range(1,num+1):\n",
    "    x*=i\n",
    "    print(x)\n",
    "print(\"factorial of\",num,\"is\",x)"
   ]
  },
  {
   "cell_type": "code",
   "execution_count": 1,
   "id": "685dbebf",
   "metadata": {},
   "outputs": [
    {
     "name": "stdout",
     "output_type": "stream",
     "text": [
      "number: 5\n",
      "enter a number: 5\n",
      "enter a number: 5\n",
      "enter a number: 5\n",
      "enter a number: 5\n",
      "enter a number: 5\n",
      "25\n",
      "5.0\n"
     ]
    }
   ],
   "source": [
    "# que4 Write a program to read 10 numbers from keyboard and find their sum and average.\n",
    "num = int(input('number: '))\n",
    "s=0\n",
    "for i in range(1,num+1):\n",
    "    x=int(input('enter a number: '))\n",
    "    s+=x\n",
    "    avg=s/num\n",
    "    \n",
    "print(s)    \n",
    "print(avg)    "
   ]
  },
  {
   "cell_type": "code",
   "execution_count": 5,
   "id": "6ee84449",
   "metadata": {},
   "outputs": [
    {
     "name": "stdout",
     "output_type": "stream",
     "text": [
      "num: 5\n",
      "1\n",
      "22\n",
      "333\n",
      "4444\n",
      "55555\n"
     ]
    }
   ],
   "source": [
    "# que5  Print this pattern for n = 4. n can vary, take it from user.\n",
    "#  1\n",
    "#  22\n",
    "#  333\n",
    "#  4444\n",
    "\n",
    "n=int(input('num: '))\n",
    "\n",
    "for i in range(1,n+1):\n",
    "    for j in range(1,i+1):\n",
    "        print(i,end=\"\")\n",
    "    print()"
   ]
  },
  {
   "cell_type": "code",
   "execution_count": 19,
   "id": "096beed7",
   "metadata": {},
   "outputs": [
    {
     "name": "stdout",
     "output_type": "stream",
     "text": [
      "number: 64646\n",
      "26\n"
     ]
    }
   ],
   "source": [
    "# que6 Write a Python function to calculate the sum of the digits of a given number.\n",
    "def add():\n",
    "    n=input(\"number: \")\n",
    "    s=0\n",
    "    for i in n:\n",
    "        x=int(i)\n",
    "        s+=x\n",
    "    print(s)\n",
    "add()    "
   ]
  },
  {
   "cell_type": "code",
   "execution_count": 8,
   "id": "f84c99ef",
   "metadata": {},
   "outputs": [
    {
     "name": "stdout",
     "output_type": "stream",
     "text": [
      "{5: 2, 4: 2, 6: 3, 8: 2, 2: 4, 0: 1, 7: 2, 51: 1, 3: 2, 9: 1}\n",
      "4\n",
      "2\n"
     ]
    }
   ],
   "source": [
    "# que 7 Write a Python program to find the most repeating element in a list.\n",
    "l=[5,4,6,4,8,2,0,5,6,2,7,2,51,2,3,6,3,7,9,8]\n",
    "count={}\n",
    "for i in l:\n",
    "    if i in count:\n",
    "        count[i]+=1\n",
    "    else :        \n",
    "        count[i] =1\n",
    "      \n",
    "\n",
    "    \n",
    "list1 = list(count.values())\n",
    "list2 = list(count.keys())\n",
    "\n",
    "x = max(list1)\n",
    "print(count)\n",
    "print(x)\n",
    "\n",
    "y = dict(map(reversed,count.items()))\n",
    "print(y[x])"
   ]
  },
  {
   "cell_type": "code",
   "execution_count": 4,
   "id": "06e46eed",
   "metadata": {},
   "outputs": [
    {
     "name": "stdout",
     "output_type": "stream",
     "text": [
      "[2, 5, 6, 7, 9, 15, 34, 45, 54, 56, 74, 88]\n",
      "Second largest = 74\n",
      "Second smallest = 5\n"
     ]
    }
   ],
   "source": [
    "# que 8  Write a Python program to find the list's second-largest and second-smallest elements. \n",
    "# \tInput: [10, 20, 30, 40, 50] \n",
    "# \tOutput: Second largest = 40, Second smallest = 20\n",
    "\n",
    "l=[54,88,6,45,7,2,9,15,34,56,74,5]\n",
    "l.sort()\n",
    "\n",
    "a=l[1]\n",
    "b=l[-2]\n",
    "print(l)\n",
    "print(\"Second largest =\",b)\n",
    "print('Second smallest =',a)"
   ]
  },
  {
   "cell_type": "code",
   "execution_count": null,
   "id": "c41f9eb4",
   "metadata": {},
   "outputs": [],
   "source": [
    "\n",
    "        \n"
   ]
  },
  {
   "cell_type": "code",
   "execution_count": null,
   "id": "d7cde0d7",
   "metadata": {},
   "outputs": [],
   "source": [
    "#ques 9 Write a Python program to create a tuple with the squares of the first 10 natural\n",
    "# \tnumbers and print it.\n",
    "\n",
    "n= int(input('num: '))\n",
    "l=[]\n",
    "for i in range(1,n+1):\n",
    "    n=i*i\n",
    "    l.append(n)\n",
    "    \n",
    "print(tuple(l))    "
   ]
  },
  {
   "cell_type": "code",
   "execution_count": 9,
   "id": "21ade3e6",
   "metadata": {},
   "outputs": [
    {
     "name": "stdout",
     "output_type": "stream",
     "text": [
      "num: 5\n",
      "[1, 4, 9, 16, 25]\n"
     ]
    }
   ],
   "source": [
    "# que 10. Write a program that uses an anonymous function to square each element\n",
    "# \tin a list of numbers.\n",
    "\n",
    "num=int(input('num: '))\n",
    "l =[]\n",
    "for i in range(1,num+1):\n",
    "    l.append(i)\n",
    "\n",
    "    \n",
    "    \n",
    "x= lambda n:n**2    \n",
    "ans= list(map(x,l))    \n",
    "print(ans)"
   ]
  },
  {
   "cell_type": "code",
   "execution_count": null,
   "id": "a76afb49",
   "metadata": {},
   "outputs": [],
   "source": [
    "\n",
    "\n"
   ]
  },
  {
   "cell_type": "code",
   "execution_count": null,
   "id": "cc7268e9",
   "metadata": {},
   "outputs": [],
   "source": []
  },
  {
   "cell_type": "code",
   "execution_count": null,
   "id": "1f2af3bc",
   "metadata": {},
   "outputs": [],
   "source": []
  },
  {
   "cell_type": "code",
   "execution_count": null,
   "id": "276b570e",
   "metadata": {},
   "outputs": [],
   "source": [
    "                    \n"
   ]
  },
  {
   "cell_type": "code",
   "execution_count": null,
   "id": "023f0e00",
   "metadata": {},
   "outputs": [],
   "source": []
  }
 ],
 "metadata": {
  "kernelspec": {
   "display_name": "Python 3 (ipykernel)",
   "language": "python",
   "name": "python3"
  },
  "language_info": {
   "codemirror_mode": {
    "name": "ipython",
    "version": 3
   },
   "file_extension": ".py",
   "mimetype": "text/x-python",
   "name": "python",
   "nbconvert_exporter": "python",
   "pygments_lexer": "ipython3",
   "version": "3.11.2"
  }
 },
 "nbformat": 4,
 "nbformat_minor": 5
}
