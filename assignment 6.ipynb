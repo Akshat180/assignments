{
 "cells": [
  {
   "cell_type": "code",
   "execution_count": 2,
   "id": "17c3e46e",
   "metadata": {},
   "outputs": [
    {
     "ename": "IndentationError",
     "evalue": "unindent does not match any outer indentation level (<tokenize>, line 4)",
     "output_type": "error",
     "traceback": [
      "\u001b[1;36m  File \u001b[1;32m<tokenize>:4\u001b[1;36m\u001b[0m\n\u001b[1;33m    Given a list storing the dob of the employees as\u001b[0m\n\u001b[1;37m    ^\u001b[0m\n\u001b[1;31mIndentationError\u001b[0m\u001b[1;31m:\u001b[0m unindent does not match any outer indentation level\n"
     ]
    }
   ],
   "source": [
    "Assignment 6\n",
    "1. Given a list storing the names of employees as \n",
    "\tnames = ['Aanchal Sharma', 'Shubham Chhipa, 'Mohit Rawat', 'Salman Khan', 'Ishani Janveja']\n",
    "   Given a list storing the dob of the employees as\n",
    "\tdob = ['24/03/1999', '19/08/1997', '07/07/1990', '26/11/2000', '14/10/1993']\n",
    "   Create a 3rd list storing their suggested passwords as per the following format:\n",
    "\tIf name is Aanchal Sharma and dob is 24/03/1999, then pass is AS#03@24\n",
    "\ti.e. Initials#MM@DD\n",
    "\n",
    "2. Create a list storing the number of vowels in the textual representation in the range of 0 to 9\n",
    "\tin the following format, [(0, 2), (1, 2), (2, 1)......]\n",
    "\tLogic: 0 can be written as zero. zero has 2 vowels.\n",
    "\n",
    "3. Given a sentence containing n words/strings. Remove all duplicates words/strings which are similar to each others.\n",
    "    Examples:  \n",
    "\tInput : Bye Bye bro\n",
    "\tOutput : Bye bro\n",
    "\n",
    "\tInput : Python is great and Java is also great\n",
    "\tOutput : is also Java Python and great\n",
    "\n",
    "4. Write a Python program to count the number of elements in a list within a specified range.\n",
    "\tInput: \t\tl = [2, 16, 9, 10, 15, 8, 11]\n",
    "\tInput Range: \tStart: 9\n",
    "\t\t\tEnd:   13\n",
    "\tOutput:\t\t3\n",
    "\n",
    "\n",
    "5. Question: You are given a list of integers nums and an integer k. \n",
    "   Write a function max_subarray_sum that finds the maximum sum of any continuous subarray of length k in nums and returns the corresponding array.\n",
    "   Example Input:\n",
    "   \t\tnums = [2, 1, 5, 1, 3, 2]\n",
    "\t\tk = 3\n",
    "\t   Function Call:\n",
    "\t\tmax_subarray_sum(nums, k)\n",
    "\t   Output: \n",
    " \t\tarray = [5, 1, 3] \n",
    "   Explanation: The subarray [5, 1, 3] has the maximum sum among all contiguous subarrays of length 3 in nums.\n",
    "   Hint: You can solve this problem using the sliding window technique, where you maintain a sliding window of length k and \n",
    "         slide it over the input list nums while keeping track of the maximum sum seen so far.\n"
   ]
  },
  {
   "cell_type": "code",
   "execution_count": 1,
   "id": "2b42f4d6",
   "metadata": {},
   "outputs": [
    {
     "name": "stdout",
     "output_type": "stream",
     "text": [
      "['AS#24@03', 'SC#19@08', 'MR#07@07', 'SK#26@11', 'IJ#14@10']\n"
     ]
    }
   ],
   "source": [
    "# 1. Given a list storing the names of employees as \n",
    "# \tnames = ['Aanchal Sharma', 'Shubham Chhipa, 'Mohit Rawat', 'Salman Khan', 'Ishani Janveja']\n",
    "#    Given a list storing the dob of the employees as\n",
    "# \tdob = ['24/03/1999', '19/08/1997', '07/07/1990', '26/11/2000', '14/10/1993']\n",
    "#    Create a 3rd list storing their suggested passwords as per the following format:\n",
    "# \tIf name is Aanchal Sharma and dob is 24/03/1999, then pass is AS#03@24\n",
    "# \ti.e. Initials#MM@DD\n",
    "             \n",
    "names = ['Aanchal Sharma', 'Shubham Chhipa', 'Mohit Rawat', 'Salman Khan', 'Ishani Janveja']\n",
    "dob = ['24/03/1999', '19/08/1997', '07/07/1990', '26/11/2000', '14/10/1993']\n",
    "passwords=[]\n",
    "for i in range(len(names)):\n",
    "    name_1 =  names[i].split()\n",
    "    initails = name_1[0][0]+name_1[1][0]\n",
    "   \n",
    "    dob_1 = dob[i].split('/')\n",
    "    days  = dob_1[0]\n",
    "    months = dob_1[1]\n",
    "    \n",
    "    password = initails + \"#\" + days + \"@\" + months\n",
    "    passwords.append(password)\n",
    "print(passwords)    "
   ]
  },
  {
   "cell_type": "code",
   "execution_count": 16,
   "id": "0d676f72",
   "metadata": {},
   "outputs": [
    {
     "name": "stdout",
     "output_type": "stream",
     "text": [
      "[(0, 2), (1, 2), (2, 1), (3, 2), (4, 2), (5, 2), (6, 1), (7, 2), (8, 2), (9, 2)]\n"
     ]
    }
   ],
   "source": [
    "# 2. Create a list storing the number of vowels in the textual representation in the range of 0 to 9\n",
    "# \tin the following format, [(0, 2), (1, 2), (2, 1)......]\n",
    "# \tLogic: 0 can be written as zero. zero has 2 vowels.\n",
    "        \n",
    "numbers = ['zero', 'one', 'two', 'three', 'four', 'five', 'six', 'seven', 'eight', 'nine']\n",
    "vowels = \"aeiou\"\n",
    "l = []\n",
    "for i in range(len(numbers)):\n",
    "    c = 0\n",
    "    for j in numbers[i]:\n",
    "        if j in vowels:\n",
    "            c+=1\n",
    "    l.append((i,c))\n",
    "print(l)            "
   ]
  },
  {
   "cell_type": "code",
   "execution_count": 21,
   "id": "ac6c5cc9",
   "metadata": {},
   "outputs": [
    {
     "name": "stdout",
     "output_type": "stream",
     "text": [
      "sentence: bye bye bro\n",
      "bye bro\n"
     ]
    }
   ],
   "source": [
    "# 3. Given a sentence containing n words/strings. Remove all duplicates words/strings which are similar to each others.\n",
    "#     Examples:  \n",
    "# \tInput : Bye Bye bro\n",
    "# \tOutput : Bye bro\n",
    "\n",
    "# \tInput : Python is great and Java is also great\n",
    "# \tOutput : is also Java Python and great\n",
    "\n",
    "inp = input(\"sentence: \")\n",
    "words = inp.split()\n",
    "l=[]\n",
    "for i in words:\n",
    "    if i not in l:\n",
    "        l.append(i)\n",
    "print(\" \".join(l))                          "
   ]
  },
  {
   "cell_type": "code",
   "execution_count": 22,
   "id": "4d24dc87",
   "metadata": {},
   "outputs": [
    {
     "ename": "SyntaxError",
     "evalue": "invalid syntax (1040219046.py, line 10)",
     "output_type": "error",
     "traceback": [
      "\u001b[1;36m  Cell \u001b[1;32mIn[22], line 10\u001b[1;36m\u001b[0m\n\u001b[1;33m    for l[i]:\u001b[0m\n\u001b[1;37m            ^\u001b[0m\n\u001b[1;31mSyntaxError\u001b[0m\u001b[1;31m:\u001b[0m invalid syntax\n"
     ]
    }
   ],
   "source": [
    "# 4. Write a Python program to count the number of elements in a list within a specified range.\n",
    "# \tInput: \t\tl = [2, 16, 9, 10, 15, 8, 11]\n",
    "# \tInput Range: \tStart: 9\n",
    "# \t\t\tEnd:   13\n",
    "# \tOutput:\t\t3\n",
    "l = [2, 16, 9, 10, 15, 8, 11]\n",
    "start=int(input(\"enter start range\"))\n",
    "end=int(input(\"enter start range\"))\n",
    "count=0\n",
    "for i in l:\n",
    "    if start<=i<=end:\n",
    "        count+=1\n",
    "print(count)"
   ]
  },
  {
   "cell_type": "code",
   "execution_count": 27,
   "id": "45b3d2d2",
   "metadata": {},
   "outputs": [
    {
     "name": "stdout",
     "output_type": "stream",
     "text": [
      "2\n",
      "16\n",
      "9\n",
      "10\n",
      "15\n",
      "8\n",
      "11\n"
     ]
    }
   ],
   "source": [
    "l = [2, 16, 9, 10, 15, 8, 11]\n",
    "for i in range(len(l)):\n",
    "    print(l[i])"
   ]
  },
  {
   "cell_type": "code",
   "execution_count": 26,
   "id": "ff410297",
   "metadata": {},
   "outputs": [
    {
     "data": {
      "text/plain": [
       "11"
      ]
     },
     "execution_count": 26,
     "metadata": {},
     "output_type": "execute_result"
    }
   ],
   "source": [
    "# 5. Question: You are given a list of integers nums and an integer k. \n",
    "#    Write a function max_subarray_sum that finds the maximum sum of any continuous subarray of length k in nums and returns the corresponding array.\n",
    "#    Example Input:\n",
    "#    \t\tnums = [2, 1, 5, 1, 3, 2]\n",
    "# \t\tk = 3\n",
    "# \t   Function Call:\n",
    "# \t\tmax_subarray_sum(nums, k)\n",
    "# \t   Output: \n",
    "#  \t\tarray = [5, 1, 3] \n",
    "#    Explanation: The subarray [5, 1, 3] has the maximum sum among all contiguous subarrays of length 3 in nums.\n",
    "#    Hint: You can solve this problem using the sliding window technique, where you maintain a sliding window of length k and \n",
    "#          slide it over the input list nums while keeping track of the maximum sum seen so far.\n",
    "\n",
    "nums = [2, 1, 2, 6, 7, 5, 9, 1, 3, 2]\n",
    "k = int(input(\"k: \"))\n",
    "n = max(nums)\n",
    "l = []\n",
    "for i in range(len(nums)):\n",
    "    if nums[i]==n:\n",
    "        y = i\n",
    "for j in range(y,k+y):\n",
    "    l.append(nums[j])\n",
    "print(l)"
   ]
  }
 ],
 "metadata": {
  "kernelspec": {
   "display_name": "Python 3 (ipykernel)",
   "language": "python",
   "name": "python3"
  },
  "language_info": {
   "codemirror_mode": {
    "name": "ipython",
    "version": 3
   },
   "file_extension": ".py",
   "mimetype": "text/x-python",
   "name": "python",
   "nbconvert_exporter": "python",
   "pygments_lexer": "ipython3",
   "version": "3.11.2"
  }
 },
 "nbformat": 4,
 "nbformat_minor": 5
}
